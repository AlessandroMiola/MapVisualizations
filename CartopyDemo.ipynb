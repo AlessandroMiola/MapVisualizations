{
 "cells": [
  {
   "cell_type": "code",
   "execution_count": 1,
   "metadata": {},
   "outputs": [],
   "source": [
    "from datetime import datetime, timedelta\n",
    "import matplotlib.pyplot as plt\n",
    "import cartopy.crs as ccrs\n",
    "import pandas as pd\n",
    "import numpy as np\n",
    "import cartopy as cartopy\n",
    "import os as os\n",
    "\n",
    "%matplotlib inline"
   ]
  },
  {
   "cell_type": "code",
   "execution_count": 2,
   "metadata": {},
   "outputs": [],
   "source": [
    "df = pd.read_csv('data\\\\scatter_dummy_data.csv')"
   ]
  },
  {
   "cell_type": "code",
   "execution_count": 3,
   "metadata": {},
   "outputs": [
    {
     "data": {
      "text/html": [
       "<div>\n",
       "<style scoped>\n",
       "    .dataframe tbody tr th:only-of-type {\n",
       "        vertical-align: middle;\n",
       "    }\n",
       "\n",
       "    .dataframe tbody tr th {\n",
       "        vertical-align: top;\n",
       "    }\n",
       "\n",
       "    .dataframe thead th {\n",
       "        text-align: right;\n",
       "    }\n",
       "</style>\n",
       "<table border=\"1\" class=\"dataframe\">\n",
       "  <thead>\n",
       "    <tr style=\"text-align: right;\">\n",
       "      <th></th>\n",
       "      <th>day</th>\n",
       "      <th>device_fk_id</th>\n",
       "      <th>n_trip_on</th>\n",
       "      <th>start_lat</th>\n",
       "      <th>start_lon</th>\n",
       "    </tr>\n",
       "  </thead>\n",
       "  <tbody>\n",
       "    <tr>\n",
       "      <td>0</td>\n",
       "      <td>16-03-2020</td>\n",
       "      <td>2565</td>\n",
       "      <td>21068</td>\n",
       "      <td>20.356319</td>\n",
       "      <td>73.868538</td>\n",
       "    </tr>\n",
       "    <tr>\n",
       "      <td>1</td>\n",
       "      <td>17-03-2020</td>\n",
       "      <td>3342</td>\n",
       "      <td>2971</td>\n",
       "      <td>26.604467</td>\n",
       "      <td>82.274284</td>\n",
       "    </tr>\n",
       "    <tr>\n",
       "      <td>2</td>\n",
       "      <td>26-03-2020</td>\n",
       "      <td>5488</td>\n",
       "      <td>416</td>\n",
       "      <td>28.788904</td>\n",
       "      <td>77.391380</td>\n",
       "    </tr>\n",
       "    <tr>\n",
       "      <td>3</td>\n",
       "      <td>25-03-2020</td>\n",
       "      <td>3443</td>\n",
       "      <td>13126</td>\n",
       "      <td>29.526400</td>\n",
       "      <td>78.388046</td>\n",
       "    </tr>\n",
       "    <tr>\n",
       "      <td>4</td>\n",
       "      <td>27-02-2020</td>\n",
       "      <td>5442</td>\n",
       "      <td>140</td>\n",
       "      <td>23.543892</td>\n",
       "      <td>76.867691</td>\n",
       "    </tr>\n",
       "  </tbody>\n",
       "</table>\n",
       "</div>"
      ],
      "text/plain": [
       "          day  device_fk_id  n_trip_on  start_lat  start_lon\n",
       "0  16-03-2020          2565      21068  20.356319  73.868538\n",
       "1  17-03-2020          3342       2971  26.604467  82.274284\n",
       "2  26-03-2020          5488        416  28.788904  77.391380\n",
       "3  25-03-2020          3443      13126  29.526400  78.388046\n",
       "4  27-02-2020          5442        140  23.543892  76.867691"
      ]
     },
     "execution_count": 3,
     "metadata": {},
     "output_type": "execute_result"
    }
   ],
   "source": [
    "df.head()"
   ]
  },
  {
   "cell_type": "code",
   "execution_count": 4,
   "metadata": {},
   "outputs": [],
   "source": [
    "df['day'] = pd.to_datetime(df['day'],format=\"%d-%m-%Y\")"
   ]
  },
  {
   "cell_type": "code",
   "execution_count": 5,
   "metadata": {},
   "outputs": [
    {
     "name": "stderr",
     "output_type": "stream",
     "text": [
      "findfont: Font family ['Open Sans'] not found. Falling back to DejaVu Sans.\n"
     ]
    },
    {
     "data": {
      "image/png": "[encoded data removed]",
      "text/plain": [
       "<Figure size 1728x864 with 1 Axes>"
      ]
     },
     "metadata": {
      "needs_background": "light"
     },
     "output_type": "display_data"
    }
   ],
   "source": [
    "central_lat = 37.5\n",
    "central_lon = -96\n",
    "extent = [68.1941, 97.39564, 8.06890, 37.08586]\n",
    "central_lon = np.mean(extent[:2])\n",
    "central_lat = np.mean(extent[2:])\n",
    "os.environ[\"CARTOPY_USER_BACKGROUNDS\"] = \"C:\\\\Users\\\\Yash\\\\Downloads\\\\CARTOPY_IMGS\"\n",
    "\n",
    "fig = plt.figure(figsize=(24, 12))\n",
    "ax = plt.axes(projection=ccrs.Mercator(central_lon, 8.06890, 37.08586))\n",
    "for i in range(1,30):\n",
    "    date = datetime(2020,3,i)\n",
    "    df_single_day = df[df['day'] == date]\n",
    "    if ax is None:\n",
    "        fig = plt.figure(figsize=(24, 12))\n",
    "        ax = plt.axes(projection=ccrs.Mercator(central_lon, 8.06890, 37.08586))\n",
    "    ax.set_extent(extent, crs=ccrs.PlateCarree())\n",
    "\n",
    "    ax.background_img(extent = extent)\n",
    "    ax.scatter(df_single_day['start_lon'], df_single_day['start_lat'], s=df_single_day['n_trip_on'].apply(lambda x: x/100),\n",
    "                   alpha=0.8, color='#FFFF50',\n",
    "                   transform=ccrs.PlateCarree())\n",
    "\n",
    "    fontname = 'Open Sans'\n",
    "    fontsize = 28\n",
    "    # Positions for the date and grad counter\n",
    "    date_x = 85\n",
    "    date_y = 10\n",
    "    date_spacing = 65\n",
    "\n",
    "    ax.text(date_x, date_y, \n",
    "            f\"{date.strftime('%b %d, %Y')}\", \n",
    "            color='white',\n",
    "            fontname=fontname, fontsize=fontsize*1.3,\n",
    "            transform=ccrs.PlateCarree())\n",
    "\n",
    "    fig.savefig(f\"frames_cartopy/frame_{i:02d}.png\", dpi=100,facecolor='black', bbox_inches='tight')\n",
    "    ax.clear()"
   ]
  },
  {
   "cell_type": "code",
   "execution_count": 6,
   "metadata": {},
   "outputs": [],
   "source": [
    "#Now that the images have been saved, it is time to stitch them into a video. \n",
    "#Open command prompt and navigate to the frames_cartopy folder\n",
    "#Execute the following command to generate a video:\n",
    "# >ffmpeg -framerate 3 -i frame_%3d.png -c:v h264 -r 30 -s 1920x1080 ./cartopy_video.mp4\n",
    "\n",
    "#To learn more about the different attributes of ffmpeg, see https://trac.ffmpeg.org/wiki/Slideshow"
   ]
  },
  {
   "cell_type": "code",
   "execution_count": null,
   "metadata": {},
   "outputs": [],
   "source": []
  },
  {
   "cell_type": "code",
   "execution_count": null,
   "metadata": {},
   "outputs": [],
   "source": []
  },
  {
   "cell_type": "code",
   "execution_count": null,
   "metadata": {},
   "outputs": [],
   "source": []
  },
  {
   "cell_type": "code",
   "execution_count": null,
   "metadata": {},
   "outputs": [],
   "source": []
  }
 ],
 "metadata": {
  "kernelspec": {
   "display_name": "Python 3",
   "language": "python",
   "name": "python3"
  },
  "language_info": {
   "codemirror_mode": {
    "name": "ipython",
    "version": 3
   },
   "file_extension": ".py",
   "mimetype": "text/x-python",
   "name": "python",
   "nbconvert_exporter": "python",
   "pygments_lexer": "ipython3",
   "version": "3.7.4"
  }
 },
 "nbformat": 4,
 "nbformat_minor": 2
}
